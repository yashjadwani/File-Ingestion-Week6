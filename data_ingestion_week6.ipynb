{
 "cells": [
  {
   "cell_type": "code",
   "execution_count": 1,
   "metadata": {},
   "outputs": [
    {
     "name": "stdout",
     "output_type": "stream",
     "text": [
      "Requirement already satisfied: pyaml in c:\\users\\yashj\\appdata\\local\\programs\\python\\python310\\lib\\site-packages (21.10.1)\n",
      "Requirement already satisfied: PyYAML in c:\\users\\yashj\\appdata\\local\\programs\\python\\python310\\lib\\site-packages (from pyaml) (6.0)\n",
      "Requirement already satisfied: dask in c:\\users\\yashj\\appdata\\local\\programs\\python\\python310\\lib\\site-packages (2023.3.2)\n",
      "Requirement already satisfied: fsspec>=0.6.0 in c:\\users\\yashj\\appdata\\local\\programs\\python\\python310\\lib\\site-packages (from dask) (2023.3.0)\n",
      "Requirement already satisfied: partd>=1.2.0 in c:\\users\\yashj\\appdata\\local\\programs\\python\\python310\\lib\\site-packages (from dask) (1.3.0)\n",
      "Requirement already satisfied: importlib-metadata>=4.13.0 in c:\\users\\yashj\\appdata\\local\\programs\\python\\python310\\lib\\site-packages (from dask) (6.1.0)\n",
      "Requirement already satisfied: packaging>=20.0 in c:\\users\\yashj\\appdata\\local\\programs\\python\\python310\\lib\\site-packages (from dask) (23.0)\n",
      "Requirement already satisfied: cloudpickle>=1.1.1 in c:\\users\\yashj\\appdata\\local\\programs\\python\\python310\\lib\\site-packages (from dask) (2.2.1)\n",
      "Requirement already satisfied: pyyaml>=5.3.1 in c:\\users\\yashj\\appdata\\local\\programs\\python\\python310\\lib\\site-packages (from dask) (6.0)\n",
      "Requirement already satisfied: click>=7.0 in c:\\users\\yashj\\appdata\\local\\programs\\python\\python310\\lib\\site-packages (from dask) (8.1.3)\n",
      "Requirement already satisfied: toolz>=0.8.2 in c:\\users\\yashj\\appdata\\local\\programs\\python\\python310\\lib\\site-packages (from dask) (0.12.0)\n",
      "Requirement already satisfied: colorama in c:\\users\\yashj\\appdata\\local\\programs\\python\\python310\\lib\\site-packages (from click>=7.0->dask) (0.4.6)\n",
      "Requirement already satisfied: zipp>=0.5 in c:\\users\\yashj\\appdata\\local\\programs\\python\\python310\\lib\\site-packages (from importlib-metadata>=4.13.0->dask) (3.15.0)\n",
      "Requirement already satisfied: locket in c:\\users\\yashj\\appdata\\local\\programs\\python\\python310\\lib\\site-packages (from partd>=1.2.0->dask) (1.0.0)\n",
      "Requirement already satisfied: modin in c:\\users\\yashj\\appdata\\local\\programs\\python\\python310\\lib\\site-packages (0.19.0)\n",
      "Requirement already satisfied: numpy>=1.18.5 in c:\\users\\yashj\\appdata\\local\\programs\\python\\python310\\lib\\site-packages (from modin) (1.23.5)\n",
      "Requirement already satisfied: fsspec in c:\\users\\yashj\\appdata\\local\\programs\\python\\python310\\lib\\site-packages (from modin) (2023.3.0)\n",
      "Requirement already satisfied: packaging in c:\\users\\yashj\\appdata\\local\\programs\\python\\python310\\lib\\site-packages (from modin) (23.0)\n",
      "Requirement already satisfied: psutil in c:\\users\\yashj\\appdata\\local\\programs\\python\\python310\\lib\\site-packages (from modin) (5.9.4)\n",
      "Requirement already satisfied: pandas==1.5.3 in c:\\users\\yashj\\appdata\\local\\programs\\python\\python310\\lib\\site-packages (from modin) (1.5.3)\n",
      "Requirement already satisfied: python-dateutil>=2.8.1 in c:\\users\\yashj\\appdata\\local\\programs\\python\\python310\\lib\\site-packages (from pandas==1.5.3->modin) (2.8.2)\n",
      "Requirement already satisfied: pytz>=2020.1 in c:\\users\\yashj\\appdata\\local\\programs\\python\\python310\\lib\\site-packages (from pandas==1.5.3->modin) (2023.3)\n",
      "Requirement already satisfied: six>=1.5 in c:\\users\\yashj\\appdata\\local\\programs\\python\\python310\\lib\\site-packages (from python-dateutil>=2.8.1->pandas==1.5.3->modin) (1.16.0)\n",
      "Requirement already satisfied: vaex in c:\\users\\yashj\\appdata\\local\\programs\\python\\python310\\lib\\site-packages (4.16.0)\n",
      "Requirement already satisfied: vaex-core<4.17,>=4.16.0 in c:\\users\\yashj\\appdata\\local\\programs\\python\\python310\\lib\\site-packages (from vaex) (4.16.1)\n",
      "Requirement already satisfied: vaex-astro<0.10,>=0.9.3 in c:\\users\\yashj\\appdata\\local\\programs\\python\\python310\\lib\\site-packages (from vaex) (0.9.3)\n",
      "Requirement already satisfied: vaex-jupyter<0.9,>=0.8.1 in c:\\users\\yashj\\appdata\\local\\programs\\python\\python310\\lib\\site-packages (from vaex) (0.8.1)\n",
      "Requirement already satisfied: vaex-hdf5<0.15,>=0.13.0 in c:\\users\\yashj\\appdata\\local\\programs\\python\\python310\\lib\\site-packages (from vaex) (0.14.1)\n",
      "Requirement already satisfied: vaex-server<0.9,>=0.8.1 in c:\\users\\yashj\\appdata\\local\\programs\\python\\python310\\lib\\site-packages (from vaex) (0.8.1)\n",
      "Requirement already satisfied: vaex-viz<0.6,>=0.5.4 in c:\\users\\yashj\\appdata\\local\\programs\\python\\python310\\lib\\site-packages (from vaex) (0.5.4)\n",
      "Requirement already satisfied: vaex-ml<0.19,>=0.18.1 in c:\\users\\yashj\\appdata\\local\\programs\\python\\python310\\lib\\site-packages (from vaex) (0.18.1)\n",
      "Requirement already satisfied: astropy in c:\\users\\yashj\\appdata\\local\\programs\\python\\python310\\lib\\site-packages (from vaex-astro<0.10,>=0.9.3->vaex) (5.2.2)\n",
      "Requirement already satisfied: frozendict!=2.2.0 in c:\\users\\yashj\\appdata\\local\\programs\\python\\python310\\lib\\site-packages (from vaex-core<4.17,>=4.16.0->vaex) (2.3.6)\n",
      "Requirement already satisfied: pandas in c:\\users\\yashj\\appdata\\local\\programs\\python\\python310\\lib\\site-packages (from vaex-core<4.17,>=4.16.0->vaex) (1.5.3)\n",
      "Requirement already satisfied: numpy>=1.16 in c:\\users\\yashj\\appdata\\local\\programs\\python\\python310\\lib\\site-packages (from vaex-core<4.17,>=4.16.0->vaex) (1.23.5)\n",
      "Requirement already satisfied: future>=0.15.2 in c:\\users\\yashj\\appdata\\local\\programs\\python\\python310\\lib\\site-packages (from vaex-core<4.17,>=4.16.0->vaex) (0.18.3)\n",
      "Requirement already satisfied: tabulate>=0.8.3 in c:\\users\\yashj\\appdata\\local\\programs\\python\\python310\\lib\\site-packages (from vaex-core<4.17,>=4.16.0->vaex) (0.9.0)\n",
      "Requirement already satisfied: filelock in c:\\users\\yashj\\appdata\\local\\programs\\python\\python310\\lib\\site-packages (from vaex-core<4.17,>=4.16.0->vaex) (3.10.7)\n",
      "Requirement already satisfied: dask!=2022.4.0 in c:\\users\\yashj\\appdata\\local\\programs\\python\\python310\\lib\\site-packages (from vaex-core<4.17,>=4.16.0->vaex) (2023.3.2)\n",
      "Requirement already satisfied: cloudpickle in c:\\users\\yashj\\appdata\\local\\programs\\python\\python310\\lib\\site-packages (from vaex-core<4.17,>=4.16.0->vaex) (2.2.1)\n",
      "Requirement already satisfied: pydantic>=1.8.0 in c:\\users\\yashj\\appdata\\local\\programs\\python\\python310\\lib\\site-packages (from vaex-core<4.17,>=4.16.0->vaex) (1.10.7)\n",
      "Requirement already satisfied: pyyaml in c:\\users\\yashj\\appdata\\local\\programs\\python\\python310\\lib\\site-packages (from vaex-core<4.17,>=4.16.0->vaex) (6.0)\n",
      "Requirement already satisfied: progressbar2 in c:\\users\\yashj\\appdata\\local\\programs\\python\\python310\\lib\\site-packages (from vaex-core<4.17,>=4.16.0->vaex) (4.2.0)\n",
      "Requirement already satisfied: requests in c:\\users\\yashj\\appdata\\local\\programs\\python\\python310\\lib\\site-packages (from vaex-core<4.17,>=4.16.0->vaex) (2.28.2)\n",
      "Requirement already satisfied: blake3 in c:\\users\\yashj\\appdata\\local\\programs\\python\\python310\\lib\\site-packages (from vaex-core<4.17,>=4.16.0->vaex) (0.3.3)\n",
      "Requirement already satisfied: pyarrow>=5.0.0 in c:\\users\\yashj\\appdata\\local\\programs\\python\\python310\\lib\\site-packages (from vaex-core<4.17,>=4.16.0->vaex) (11.0.0)\n",
      "Requirement already satisfied: nest-asyncio>=1.3.3 in c:\\users\\yashj\\appdata\\local\\programs\\python\\python310\\lib\\site-packages (from vaex-core<4.17,>=4.16.0->vaex) (1.5.6)\n",
      "Requirement already satisfied: aplus in c:\\users\\yashj\\appdata\\local\\programs\\python\\python310\\lib\\site-packages (from vaex-core<4.17,>=4.16.0->vaex) (0.11.0)\n",
      "Requirement already satisfied: six in c:\\users\\yashj\\appdata\\local\\programs\\python\\python310\\lib\\site-packages (from vaex-core<4.17,>=4.16.0->vaex) (1.16.0)\n",
      "Requirement already satisfied: rich in c:\\users\\yashj\\appdata\\local\\programs\\python\\python310\\lib\\site-packages (from vaex-core<4.17,>=4.16.0->vaex) (13.3.3)\n",
      "Requirement already satisfied: h5py>=2.9 in c:\\users\\yashj\\appdata\\local\\programs\\python\\python310\\lib\\site-packages (from vaex-hdf5<0.15,>=0.13.0->vaex) (3.8.0)\n",
      "Requirement already satisfied: ipyvuetify<2,>=1.2.2 in c:\\users\\yashj\\appdata\\local\\programs\\python\\python310\\lib\\site-packages (from vaex-jupyter<0.9,>=0.8.1->vaex) (1.8.5)\n",
      "Requirement already satisfied: ipympl in c:\\users\\yashj\\appdata\\local\\programs\\python\\python310\\lib\\site-packages (from vaex-jupyter<0.9,>=0.8.1->vaex) (0.9.3)\n",
      "Requirement already satisfied: bqplot>=0.10.1 in c:\\users\\yashj\\appdata\\local\\programs\\python\\python310\\lib\\site-packages (from vaex-jupyter<0.9,>=0.8.1->vaex) (0.12.37)\n",
      "Requirement already satisfied: ipyleaflet in c:\\users\\yashj\\appdata\\local\\programs\\python\\python310\\lib\\site-packages (from vaex-jupyter<0.9,>=0.8.1->vaex) (0.17.2)\n",
      "Requirement already satisfied: xarray in c:\\users\\yashj\\appdata\\local\\programs\\python\\python310\\lib\\site-packages (from vaex-jupyter<0.9,>=0.8.1->vaex) (2023.3.0)\n",
      "Requirement already satisfied: ipyvolume>=0.4 in c:\\users\\yashj\\appdata\\local\\programs\\python\\python310\\lib\\site-packages (from vaex-jupyter<0.9,>=0.8.1->vaex) (0.6.1)\n",
      "Requirement already satisfied: traitlets in c:\\users\\yashj\\appdata\\local\\programs\\python\\python310\\lib\\site-packages (from vaex-ml<0.19,>=0.18.1->vaex) (5.9.0)\n",
      "Requirement already satisfied: numba in c:\\users\\yashj\\appdata\\local\\programs\\python\\python310\\lib\\site-packages (from vaex-ml<0.19,>=0.18.1->vaex) (0.56.4)\n",
      "Requirement already satisfied: jinja2 in c:\\users\\yashj\\appdata\\local\\programs\\python\\python310\\lib\\site-packages (from vaex-ml<0.19,>=0.18.1->vaex) (3.1.2)\n",
      "Requirement already satisfied: cachetools in c:\\users\\yashj\\appdata\\local\\programs\\python\\python310\\lib\\site-packages (from vaex-server<0.9,>=0.8.1->vaex) (5.3.0)\n",
      "Requirement already satisfied: tornado>4.1 in c:\\users\\yashj\\appdata\\local\\programs\\python\\python310\\lib\\site-packages (from vaex-server<0.9,>=0.8.1->vaex) (6.2)\n",
      "Requirement already satisfied: uvicorn[standard] in c:\\users\\yashj\\appdata\\local\\programs\\python\\python310\\lib\\site-packages (from vaex-server<0.9,>=0.8.1->vaex) (0.21.1)\n",
      "Requirement already satisfied: fastapi in c:\\users\\yashj\\appdata\\local\\programs\\python\\python310\\lib\\site-packages (from vaex-server<0.9,>=0.8.1->vaex) (0.95.0)\n",
      "Requirement already satisfied: matplotlib>=1.3.1 in c:\\users\\yashj\\appdata\\local\\programs\\python\\python310\\lib\\site-packages (from vaex-viz<0.6,>=0.5.4->vaex) (3.7.1)\n",
      "Requirement already satisfied: pillow in c:\\users\\yashj\\appdata\\local\\programs\\python\\python310\\lib\\site-packages (from vaex-viz<0.6,>=0.5.4->vaex) (9.5.0)\n",
      "Requirement already satisfied: ipywidgets<9,>=7.5.0 in c:\\users\\yashj\\appdata\\local\\programs\\python\\python310\\lib\\site-packages (from bqplot>=0.10.1->vaex-jupyter<0.9,>=0.8.1->vaex) (8.0.6)\n",
      "Requirement already satisfied: traittypes>=0.0.6 in c:\\users\\yashj\\appdata\\local\\programs\\python\\python310\\lib\\site-packages (from bqplot>=0.10.1->vaex-jupyter<0.9,>=0.8.1->vaex) (0.2.1)\n",
      "Requirement already satisfied: partd>=1.2.0 in c:\\users\\yashj\\appdata\\local\\programs\\python\\python310\\lib\\site-packages (from dask!=2022.4.0->vaex-core<4.17,>=4.16.0->vaex) (1.3.0)\n",
      "Requirement already satisfied: importlib-metadata>=4.13.0 in c:\\users\\yashj\\appdata\\local\\programs\\python\\python310\\lib\\site-packages (from dask!=2022.4.0->vaex-core<4.17,>=4.16.0->vaex) (6.1.0)\n",
      "Requirement already satisfied: fsspec>=0.6.0 in c:\\users\\yashj\\appdata\\local\\programs\\python\\python310\\lib\\site-packages (from dask!=2022.4.0->vaex-core<4.17,>=4.16.0->vaex) (2023.3.0)\n",
      "Requirement already satisfied: click>=7.0 in c:\\users\\yashj\\appdata\\local\\programs\\python\\python310\\lib\\site-packages (from dask!=2022.4.0->vaex-core<4.17,>=4.16.0->vaex) (8.1.3)\n",
      "Requirement already satisfied: toolz>=0.8.2 in c:\\users\\yashj\\appdata\\local\\programs\\python\\python310\\lib\\site-packages (from dask!=2022.4.0->vaex-core<4.17,>=4.16.0->vaex) (0.12.0)\n",
      "Requirement already satisfied: packaging>=20.0 in c:\\users\\yashj\\appdata\\local\\programs\\python\\python310\\lib\\site-packages (from dask!=2022.4.0->vaex-core<4.17,>=4.16.0->vaex) (23.0)\n",
      "Requirement already satisfied: ipyvue>=1.7.0 in c:\\users\\yashj\\appdata\\local\\programs\\python\\python310\\lib\\site-packages (from ipyvolume>=0.4->vaex-jupyter<0.9,>=0.8.1->vaex) (1.9.0)\n",
      "Requirement already satisfied: pythreejs>=2.4.0 in c:\\users\\yashj\\appdata\\local\\programs\\python\\python310\\lib\\site-packages (from ipyvolume>=0.4->vaex-jupyter<0.9,>=0.8.1->vaex) (2.4.2)\n",
      "Requirement already satisfied: ipywebrtc in c:\\users\\yashj\\appdata\\local\\programs\\python\\python310\\lib\\site-packages (from ipyvolume>=0.4->vaex-jupyter<0.9,>=0.8.1->vaex) (0.6.0)\n",
      "Requirement already satisfied: fonttools>=4.22.0 in c:\\users\\yashj\\appdata\\local\\programs\\python\\python310\\lib\\site-packages (from matplotlib>=1.3.1->vaex-viz<0.6,>=0.5.4->vaex) (4.39.3)\n",
      "Requirement already satisfied: pyparsing>=2.3.1 in c:\\users\\yashj\\appdata\\local\\programs\\python\\python310\\lib\\site-packages (from matplotlib>=1.3.1->vaex-viz<0.6,>=0.5.4->vaex) (3.0.9)\n",
      "Requirement already satisfied: python-dateutil>=2.7 in c:\\users\\yashj\\appdata\\local\\programs\\python\\python310\\lib\\site-packages (from matplotlib>=1.3.1->vaex-viz<0.6,>=0.5.4->vaex) (2.8.2)\n",
      "Requirement already satisfied: contourpy>=1.0.1 in c:\\users\\yashj\\appdata\\local\\programs\\python\\python310\\lib\\site-packages (from matplotlib>=1.3.1->vaex-viz<0.6,>=0.5.4->vaex) (1.0.7)\n",
      "Requirement already satisfied: cycler>=0.10 in c:\\users\\yashj\\appdata\\local\\programs\\python\\python310\\lib\\site-packages (from matplotlib>=1.3.1->vaex-viz<0.6,>=0.5.4->vaex) (0.11.0)\n",
      "Requirement already satisfied: kiwisolver>=1.0.1 in c:\\users\\yashj\\appdata\\local\\programs\\python\\python310\\lib\\site-packages (from matplotlib>=1.3.1->vaex-viz<0.6,>=0.5.4->vaex) (1.4.4)\n",
      "Requirement already satisfied: pytz>=2020.1 in c:\\users\\yashj\\appdata\\local\\programs\\python\\python310\\lib\\site-packages (from pandas->vaex-core<4.17,>=4.16.0->vaex) (2023.3)\n",
      "Requirement already satisfied: typing-extensions>=4.2.0 in c:\\users\\yashj\\appdata\\local\\programs\\python\\python310\\lib\\site-packages (from pydantic>=1.8.0->vaex-core<4.17,>=4.16.0->vaex) (4.5.0)\n",
      "Requirement already satisfied: pyerfa>=2.0 in c:\\users\\yashj\\appdata\\local\\programs\\python\\python310\\lib\\site-packages (from astropy->vaex-astro<0.10,>=0.9.3->vaex) (2.0.0.3)\n",
      "Requirement already satisfied: starlette<0.27.0,>=0.26.1 in c:\\users\\yashj\\appdata\\local\\programs\\python\\python310\\lib\\site-packages (from fastapi->vaex-server<0.9,>=0.8.1->vaex) (0.26.1)\n",
      "Requirement already satisfied: xyzservices>=2021.8.1 in c:\\users\\yashj\\appdata\\local\\programs\\python\\python310\\lib\\site-packages (from ipyleaflet->vaex-jupyter<0.9,>=0.8.1->vaex) (2023.2.0)\n",
      "Requirement already satisfied: branca>=0.5.0 in c:\\users\\yashj\\appdata\\local\\programs\\python\\python310\\lib\\site-packages (from ipyleaflet->vaex-jupyter<0.9,>=0.8.1->vaex) (0.6.0)\n",
      "Requirement already satisfied: ipython-genutils in c:\\users\\yashj\\appdata\\local\\programs\\python\\python310\\lib\\site-packages (from ipympl->vaex-jupyter<0.9,>=0.8.1->vaex) (0.2.0)\n",
      "Requirement already satisfied: ipython<9 in c:\\users\\yashj\\appdata\\local\\programs\\python\\python310\\lib\\site-packages (from ipympl->vaex-jupyter<0.9,>=0.8.1->vaex) (8.12.0)\n",
      "Requirement already satisfied: MarkupSafe>=2.0 in c:\\users\\yashj\\appdata\\local\\programs\\python\\python310\\lib\\site-packages (from jinja2->vaex-ml<0.19,>=0.18.1->vaex) (2.1.2)\n",
      "Requirement already satisfied: setuptools in c:\\users\\yashj\\appdata\\local\\programs\\python\\python310\\lib\\site-packages (from numba->vaex-ml<0.19,>=0.18.1->vaex) (58.1.0)\n",
      "Requirement already satisfied: llvmlite<0.40,>=0.39.0dev0 in c:\\users\\yashj\\appdata\\local\\programs\\python\\python310\\lib\\site-packages (from numba->vaex-ml<0.19,>=0.18.1->vaex) (0.39.1)\n",
      "Requirement already satisfied: python-utils>=3.0.0 in c:\\users\\yashj\\appdata\\local\\programs\\python\\python310\\lib\\site-packages (from progressbar2->vaex-core<4.17,>=4.16.0->vaex) (3.5.2)\n",
      "Requirement already satisfied: urllib3<1.27,>=1.21.1 in c:\\users\\yashj\\appdata\\local\\programs\\python\\python310\\lib\\site-packages (from requests->vaex-core<4.17,>=4.16.0->vaex) (1.26.15)\n",
      "Requirement already satisfied: idna<4,>=2.5 in c:\\users\\yashj\\appdata\\local\\programs\\python\\python310\\lib\\site-packages (from requests->vaex-core<4.17,>=4.16.0->vaex) (3.4)\n",
      "Requirement already satisfied: charset-normalizer<4,>=2 in c:\\users\\yashj\\appdata\\local\\programs\\python\\python310\\lib\\site-packages (from requests->vaex-core<4.17,>=4.16.0->vaex) (2.1.1)\n",
      "Requirement already satisfied: certifi>=2017.4.17 in c:\\users\\yashj\\appdata\\local\\programs\\python\\python310\\lib\\site-packages (from requests->vaex-core<4.17,>=4.16.0->vaex) (2022.12.7)\n",
      "Requirement already satisfied: pygments<3.0.0,>=2.13.0 in c:\\users\\yashj\\appdata\\local\\programs\\python\\python310\\lib\\site-packages (from rich->vaex-core<4.17,>=4.16.0->vaex) (2.14.0)\n",
      "Requirement already satisfied: markdown-it-py<3.0.0,>=2.2.0 in c:\\users\\yashj\\appdata\\local\\programs\\python\\python310\\lib\\site-packages (from rich->vaex-core<4.17,>=4.16.0->vaex) (2.2.0)\n",
      "Requirement already satisfied: h11>=0.8 in c:\\users\\yashj\\appdata\\local\\programs\\python\\python310\\lib\\site-packages (from uvicorn[standard]->vaex-server<0.9,>=0.8.1->vaex) (0.14.0)\n",
      "Requirement already satisfied: python-dotenv>=0.13 in c:\\users\\yashj\\appdata\\local\\programs\\python\\python310\\lib\\site-packages (from uvicorn[standard]->vaex-server<0.9,>=0.8.1->vaex) (1.0.0)\n",
      "Requirement already satisfied: colorama>=0.4 in c:\\users\\yashj\\appdata\\local\\programs\\python\\python310\\lib\\site-packages (from uvicorn[standard]->vaex-server<0.9,>=0.8.1->vaex) (0.4.6)\n",
      "Requirement already satisfied: watchfiles>=0.13 in c:\\users\\yashj\\appdata\\local\\programs\\python\\python310\\lib\\site-packages (from uvicorn[standard]->vaex-server<0.9,>=0.8.1->vaex) (0.19.0)\n",
      "Requirement already satisfied: httptools>=0.5.0 in c:\\users\\yashj\\appdata\\local\\programs\\python\\python310\\lib\\site-packages (from uvicorn[standard]->vaex-server<0.9,>=0.8.1->vaex) (0.5.0)\n",
      "Requirement already satisfied: websockets>=10.4 in c:\\users\\yashj\\appdata\\local\\programs\\python\\python310\\lib\\site-packages (from uvicorn[standard]->vaex-server<0.9,>=0.8.1->vaex) (11.0.1)\n",
      "Requirement already satisfied: zipp>=0.5 in c:\\users\\yashj\\appdata\\local\\programs\\python\\python310\\lib\\site-packages (from importlib-metadata>=4.13.0->dask!=2022.4.0->vaex-core<4.17,>=4.16.0->vaex) (3.15.0)\n",
      "Requirement already satisfied: prompt-toolkit!=3.0.37,<3.1.0,>=3.0.30 in c:\\users\\yashj\\appdata\\local\\programs\\python\\python310\\lib\\site-packages (from ipython<9->ipympl->vaex-jupyter<0.9,>=0.8.1->vaex) (3.0.38)\n",
      "Requirement already satisfied: backcall in c:\\users\\yashj\\appdata\\local\\programs\\python\\python310\\lib\\site-packages (from ipython<9->ipympl->vaex-jupyter<0.9,>=0.8.1->vaex) (0.2.0)\n",
      "Requirement already satisfied: matplotlib-inline in c:\\users\\yashj\\appdata\\local\\programs\\python\\python310\\lib\\site-packages (from ipython<9->ipympl->vaex-jupyter<0.9,>=0.8.1->vaex) (0.1.6)\n",
      "Requirement already satisfied: jedi>=0.16 in c:\\users\\yashj\\appdata\\local\\programs\\python\\python310\\lib\\site-packages (from ipython<9->ipympl->vaex-jupyter<0.9,>=0.8.1->vaex) (0.18.2)\n",
      "Requirement already satisfied: decorator in c:\\users\\yashj\\appdata\\local\\programs\\python\\python310\\lib\\site-packages (from ipython<9->ipympl->vaex-jupyter<0.9,>=0.8.1->vaex) (5.1.1)\n",
      "Requirement already satisfied: stack-data in c:\\users\\yashj\\appdata\\local\\programs\\python\\python310\\lib\\site-packages (from ipython<9->ipympl->vaex-jupyter<0.9,>=0.8.1->vaex) (0.6.2)\n",
      "Requirement already satisfied: pickleshare in c:\\users\\yashj\\appdata\\local\\programs\\python\\python310\\lib\\site-packages (from ipython<9->ipympl->vaex-jupyter<0.9,>=0.8.1->vaex) (0.7.5)\n",
      "Requirement already satisfied: jupyterlab-widgets~=3.0.7 in c:\\users\\yashj\\appdata\\local\\programs\\python\\python310\\lib\\site-packages (from ipywidgets<9,>=7.5.0->bqplot>=0.10.1->vaex-jupyter<0.9,>=0.8.1->vaex) (3.0.7)\n",
      "Requirement already satisfied: ipykernel>=4.5.1 in c:\\users\\yashj\\appdata\\local\\programs\\python\\python310\\lib\\site-packages (from ipywidgets<9,>=7.5.0->bqplot>=0.10.1->vaex-jupyter<0.9,>=0.8.1->vaex) (6.22.0)\n",
      "Requirement already satisfied: widgetsnbextension~=4.0.7 in c:\\users\\yashj\\appdata\\local\\programs\\python\\python310\\lib\\site-packages (from ipywidgets<9,>=7.5.0->bqplot>=0.10.1->vaex-jupyter<0.9,>=0.8.1->vaex) (4.0.7)\n",
      "Requirement already satisfied: mdurl~=0.1 in c:\\users\\yashj\\appdata\\local\\programs\\python\\python310\\lib\\site-packages (from markdown-it-py<3.0.0,>=2.2.0->rich->vaex-core<4.17,>=4.16.0->vaex) (0.1.2)\n",
      "Requirement already satisfied: locket in c:\\users\\yashj\\appdata\\local\\programs\\python\\python310\\lib\\site-packages (from partd>=1.2.0->dask!=2022.4.0->vaex-core<4.17,>=4.16.0->vaex) (1.0.0)\n",
      "Requirement already satisfied: ipydatawidgets>=1.1.1 in c:\\users\\yashj\\appdata\\local\\programs\\python\\python310\\lib\\site-packages (from pythreejs>=2.4.0->ipyvolume>=0.4->vaex-jupyter<0.9,>=0.8.1->vaex) (4.3.3)\n",
      "Requirement already satisfied: anyio<5,>=3.4.0 in c:\\users\\yashj\\appdata\\local\\programs\\python\\python310\\lib\\site-packages (from starlette<0.27.0,>=0.26.1->fastapi->vaex-server<0.9,>=0.8.1->vaex) (3.6.2)\n",
      "Requirement already satisfied: sniffio>=1.1 in c:\\users\\yashj\\appdata\\local\\programs\\python\\python310\\lib\\site-packages (from anyio<5,>=3.4.0->starlette<0.27.0,>=0.26.1->fastapi->vaex-server<0.9,>=0.8.1->vaex) (1.3.0)\n",
      "Requirement already satisfied: jupyter-client>=6.1.12 in c:\\users\\yashj\\appdata\\local\\programs\\python\\python310\\lib\\site-packages (from ipykernel>=4.5.1->ipywidgets<9,>=7.5.0->bqplot>=0.10.1->vaex-jupyter<0.9,>=0.8.1->vaex) (8.1.0)\n",
      "Requirement already satisfied: jupyter-core!=5.0.*,>=4.12 in c:\\users\\yashj\\appdata\\local\\programs\\python\\python310\\lib\\site-packages (from ipykernel>=4.5.1->ipywidgets<9,>=7.5.0->bqplot>=0.10.1->vaex-jupyter<0.9,>=0.8.1->vaex) (5.3.0)\n",
      "Requirement already satisfied: psutil in c:\\users\\yashj\\appdata\\local\\programs\\python\\python310\\lib\\site-packages (from ipykernel>=4.5.1->ipywidgets<9,>=7.5.0->bqplot>=0.10.1->vaex-jupyter<0.9,>=0.8.1->vaex) (5.9.4)\n",
      "Requirement already satisfied: pyzmq>=20 in c:\\users\\yashj\\appdata\\local\\programs\\python\\python310\\lib\\site-packages (from ipykernel>=4.5.1->ipywidgets<9,>=7.5.0->bqplot>=0.10.1->vaex-jupyter<0.9,>=0.8.1->vaex) (25.0.2)\n",
      "Requirement already satisfied: comm>=0.1.1 in c:\\users\\yashj\\appdata\\local\\programs\\python\\python310\\lib\\site-packages (from ipykernel>=4.5.1->ipywidgets<9,>=7.5.0->bqplot>=0.10.1->vaex-jupyter<0.9,>=0.8.1->vaex) (0.1.3)\n",
      "Requirement already satisfied: debugpy>=1.6.5 in c:\\users\\yashj\\appdata\\local\\programs\\python\\python310\\lib\\site-packages (from ipykernel>=4.5.1->ipywidgets<9,>=7.5.0->bqplot>=0.10.1->vaex-jupyter<0.9,>=0.8.1->vaex) (1.6.7)\n",
      "Requirement already satisfied: parso<0.9.0,>=0.8.0 in c:\\users\\yashj\\appdata\\local\\programs\\python\\python310\\lib\\site-packages (from jedi>=0.16->ipython<9->ipympl->vaex-jupyter<0.9,>=0.8.1->vaex) (0.8.3)\n",
      "Requirement already satisfied: wcwidth in c:\\users\\yashj\\appdata\\local\\programs\\python\\python310\\lib\\site-packages (from prompt-toolkit!=3.0.37,<3.1.0,>=3.0.30->ipython<9->ipympl->vaex-jupyter<0.9,>=0.8.1->vaex) (0.2.6)\n",
      "Requirement already satisfied: pure-eval in c:\\users\\yashj\\appdata\\local\\programs\\python\\python310\\lib\\site-packages (from stack-data->ipython<9->ipympl->vaex-jupyter<0.9,>=0.8.1->vaex) (0.2.2)\n",
      "Requirement already satisfied: executing>=1.2.0 in c:\\users\\yashj\\appdata\\local\\programs\\python\\python310\\lib\\site-packages (from stack-data->ipython<9->ipympl->vaex-jupyter<0.9,>=0.8.1->vaex) (1.2.0)\n",
      "Requirement already satisfied: asttokens>=2.1.0 in c:\\users\\yashj\\appdata\\local\\programs\\python\\python310\\lib\\site-packages (from stack-data->ipython<9->ipympl->vaex-jupyter<0.9,>=0.8.1->vaex) (2.2.1)\n",
      "Requirement already satisfied: pywin32>=300 in c:\\users\\yashj\\appdata\\local\\programs\\python\\python310\\lib\\site-packages (from jupyter-core!=5.0.*,>=4.12->ipykernel>=4.5.1->ipywidgets<9,>=7.5.0->bqplot>=0.10.1->vaex-jupyter<0.9,>=0.8.1->vaex) (306)\n",
      "Requirement already satisfied: platformdirs>=2.5 in c:\\users\\yashj\\appdata\\local\\programs\\python\\python310\\lib\\site-packages (from jupyter-core!=5.0.*,>=4.12->ipykernel>=4.5.1->ipywidgets<9,>=7.5.0->bqplot>=0.10.1->vaex-jupyter<0.9,>=0.8.1->vaex) (3.2.0)\n"
     ]
    }
   ],
   "source": [
    "!pip install pyaml\n",
    "!pip install dask\n",
    "!pip install modin\n",
    "!pip install vaex"
   ]
  },
  {
   "cell_type": "code",
   "execution_count": 2,
   "metadata": {},
   "outputs": [],
   "source": [
    "import modin.pandas as mpd\n",
    "import pandas as pd\n",
    "import dask.dataframe as dd\n",
    "import vaex\n",
    "import timeit\n",
    "import os\n",
    "import warnings\n",
    "\n",
    "warnings.filterwarnings('ignore')"
   ]
  },
  {
   "cell_type": "code",
   "execution_count": 3,
   "metadata": {},
   "outputs": [],
   "source": [
    "file_path = 'simple_dataset.csv'"
   ]
  },
  {
   "attachments": {},
   "cell_type": "markdown",
   "metadata": {},
   "source": [
    "### File Size"
   ]
  },
  {
   "cell_type": "code",
   "execution_count": 4,
   "metadata": {},
   "outputs": [
    {
     "name": "stdout",
     "output_type": "stream",
     "text": [
      "File size: 2.72 GB\n"
     ]
    }
   ],
   "source": [
    "file_size_bytes = os.path.getsize(file_path)\n",
    "file_size_gb = file_size_bytes / (10**9)\n",
    "print(f\"File size: {file_size_gb:.2f} GB\")\n"
   ]
  },
  {
   "attachments": {},
   "cell_type": "markdown",
   "metadata": {},
   "source": [
    "### Execution time"
   ]
  },
  {
   "cell_type": "code",
   "execution_count": 28,
   "metadata": {},
   "outputs": [
    {
     "name": "stdout",
     "output_type": "stream",
     "text": [
      "\n",
      "\n",
      "Pandas execution time: 77.081s\n",
      "Dask execution time: 57.815s\n",
      "Modin execution time: 77.081s\n",
      "Vaex execution time: 114.403s\n"
     ]
    }
   ],
   "source": [
    "# Measure execution time using pandas\n",
    "pandas_time = timeit.timeit(lambda: pd.read_csv(file_path), number=1)\n",
    "\n",
    "# Measure execution time using Dask\n",
    "dask_time = timeit.timeit(lambda: dd.read_csv(file_path).compute(), number=1)\n",
    "\n",
    "# Measure execution time using Modin\n",
    "modin_time = timeit.timeit(lambda: mpd.read_csv(file_path), number=1)\n",
    "\n",
    "# Measure execution time using Vaex\n",
    "vaex_time = timeit.timeit(lambda: vaex.from_csv(file_path), number=1)\n",
    "\n",
    "\n",
    "\n",
    "print(f'\\n\\nPandas execution time: {round(pandas_time,3)}s')\n",
    "print(f'Dask execution time: {round(dask_time,3)}s')\n",
    "print(f'Modin execution time: {round(pandas_time,3)}s')\n",
    "print(f'Vaex execution time: {round(vaex_time,3)}s')\n"
   ]
  },
  {
   "attachments": {},
   "cell_type": "markdown",
   "metadata": {},
   "source": [
    "### Memory Usage"
   ]
  },
  {
   "cell_type": "code",
   "execution_count": 6,
   "metadata": {},
   "outputs": [],
   "source": [
    "def load_with_pandas():\n",
    "    return pd.read_csv(file_path)\n",
    "\n",
    "def load_with_dask():\n",
    "    return dd.read_csv(file_path).compute()\n",
    "\n",
    "def load_with_modin():\n",
    "    return mpd.read_csv(file_path)\n",
    "\n",
    "def load_with_vaex():\n",
    "    return vaex.from_csv(file_path)"
   ]
  },
  {
   "cell_type": "code",
   "execution_count": 7,
   "metadata": {},
   "outputs": [
    {
     "name": "stdout",
     "output_type": "stream",
     "text": [
      "Pandas memory usage: 7334.582 bytes\n",
      "Dask memory usage: 9135.191 bytes\n",
      "Modin memory usage: 1175.598 bytes\n",
      "Vaex memory usage: 10594.441 bytes\n"
     ]
    }
   ],
   "source": [
    "from memory_profiler import memory_usage\n",
    "\n",
    "pandas_mem = memory_usage(load_with_pandas)\n",
    "print(f'Pandas memory usage: {round((max(pandas_mem) - min(pandas_mem)),3)} bytes')\n",
    "\n",
    "dask_mem = memory_usage(load_with_dask)\n",
    "print(f'Dask memory usage: {round((max(dask_mem) - min(dask_mem)),3)} bytes')\n",
    "\n",
    "modin_mem = memory_usage(load_with_modin)\n",
    "print(f'Modin memory usage: {round((max(modin_mem) - min(modin_mem)),3)} bytes')\n",
    "\n",
    "vaex_mem = memory_usage(load_with_vaex)\n",
    "print(f'Vaex memory usage: {round((max(vaex_mem) - min(vaex_mem)),3)} bytes')"
   ]
  },
  {
   "cell_type": "markdown",
   "metadata": {},
   "source": [
    "### Disk I/O Usage"
   ]
  },
  {
   "cell_type": "code",
   "execution_count": 8,
   "metadata": {},
   "outputs": [
    {
     "name": "stdout",
     "output_type": "stream",
     "text": [
      "Disk I/O usage for Pandas: 2.87569664 GB\n",
      "Disk I/O usage for Dask: 4.649304576 GB\n",
      "Disk I/O usage for Modin: 12.814777344 GB\n",
      "Disk I/O usage for Vaex: 4.12378112 GB\n"
     ]
    }
   ],
   "source": [
    "import psutil\n",
    "\n",
    "disk_io_before = psutil.disk_io_counters()\n",
    "df = pd.read_csv(file_path)\n",
    "disk_io_after = psutil.disk_io_counters()\n",
    "print(f\"Disk I/O usage for Pandas: {((disk_io_after.read_bytes - disk_io_before.read_bytes)/ (10**9))} GB\")\n",
    "\n",
    "disk_io_before = psutil.disk_io_counters()\n",
    "df_dd = dd.read_csv(file_path).compute()\n",
    "disk_io_after = psutil.disk_io_counters()\n",
    "print(f\"Disk I/O usage for Dask: {((disk_io_after.read_bytes - disk_io_before.read_bytes)/ (10**9))} GB\")\n",
    "\n",
    "disk_io_before = psutil.disk_io_counters()\n",
    "df_mpd = mpd.read_csv(file_path)\n",
    "disk_io_after = psutil.disk_io_counters()\n",
    "print(f\"Disk I/O usage for Modin: {((disk_io_after.read_bytes - disk_io_before.read_bytes)/ (10**9))} GB\")\n",
    "\n",
    "disk_io_before = psutil.disk_io_counters()\n",
    "df_vaex = vaex.from_csv(file_path)\n",
    "disk_io_after = psutil.disk_io_counters()\n",
    "print(f\"Disk I/O usage for Vaex: {((disk_io_after.read_bytes - disk_io_before.read_bytes)/ (10**9))} GB\")\n",
    "\n"
   ]
  },
  {
   "attachments": {},
   "cell_type": "markdown",
   "metadata": {},
   "source": [
    "Getting the shape of dataframe loaded by each method \n",
    "\n",
    "Reason : Dask uses lazy evaluation, which means that computations are only performed when the results are actually needed. If dataframe through dask is loaded correctly it will give us shape like \n",
    "**(Delayed('int-24cd3fef-2071-4a2e-9969-934ac021adbb'), 8)** "
   ]
  },
  {
   "cell_type": "code",
   "execution_count": 9,
   "metadata": {},
   "outputs": [
    {
     "name": "stdout",
     "output_type": "stream",
     "text": [
      "The Shape of Dataframe loaded by Pandas is (35000000, 8)\n",
      "The Shape of Dataframe loaded by Dask is (35000000, 8)\n",
      "The Shape of Dataframe loaded by Modin is (35000000, 8)\n",
      "The Shape of Dataframe loaded by Vaex is (35000000, 8)\n"
     ]
    }
   ],
   "source": [
    "print('The Shape of Dataframe loaded by Pandas is',df.shape)\n",
    "print('The Shape of Dataframe loaded by Dask is',df_dd.shape)\n",
    "print('The Shape of Dataframe loaded by Modin is',df_mpd.shape)\n",
    "print('The Shape of Dataframe loaded by Vaex is',df_vaex.shape)"
   ]
  },
  {
   "attachments": {},
   "cell_type": "markdown",
   "metadata": {},
   "source": [
    "* Dask appears to be the most effective in terms of time and disk I/O usage. Modin, on the other hand, appears to be the most effective in terms of memory usage.It's true that Dask is designed for distributed computing and can handle large datasets more efficiently than pandas or Modin. Dask can parallelize the computations and distribute them across multiple cores or machines, which makes it more effective in terms of time and disk I/O usage.\n",
    "\n",
    "* However, the memory usage of Dask can be high, especially when dealing with large datasets, as Dask creates a task graph to manage the computation. Modin, on the other hand, uses a different approach by leveraging the pandas API and using distributed computing frameworks like Dask or Ray under the hood. This allows Modin to utilize the available memory more efficiently than Dask.\n",
    "\n",
    "* Therefore, the choice of the tool depends on the specific requirements of the project. If the dataset is very large and the computation needs to be distributed across multiple machines or cores, Dask may be the better option. If the dataset can fit into memory but needs to be processed more efficiently than pandas, Modin could be a better choice."
   ]
  },
  {
   "attachments": {},
   "cell_type": "markdown",
   "metadata": {},
   "source": [
    "### Loading File with dask"
   ]
  },
  {
   "cell_type": "code",
   "execution_count": 10,
   "metadata": {},
   "outputs": [],
   "source": [
    "df_dask = dd.read_csv(file_path)"
   ]
  },
  {
   "attachments": {},
   "cell_type": "markdown",
   "metadata": {},
   "source": [
    "### Basic Validation"
   ]
  },
  {
   "cell_type": "code",
   "execution_count": 11,
   "metadata": {},
   "outputs": [],
   "source": [
    "df_dask.columns = df_dask.columns.str.replace('[^a-zA-Z0-9]+', '_').str.strip()"
   ]
  },
  {
   "cell_type": "code",
   "execution_count": 12,
   "metadata": {},
   "outputs": [
    {
     "data": {
      "text/plain": [
       "Index(['ID', 'Name', 'Age', 'Address', 'City', 'State', 'Country', 'Postcode'], dtype='object')"
      ]
     },
     "execution_count": 12,
     "metadata": {},
     "output_type": "execute_result"
    }
   ],
   "source": [
    "df_dask.columns"
   ]
  },
  {
   "attachments": {},
   "cell_type": "markdown",
   "metadata": {},
   "source": [
    "### Creatin YAML File"
   ]
  },
  {
   "cell_type": "code",
   "execution_count": 13,
   "metadata": {},
   "outputs": [
    {
     "name": "stdout",
     "output_type": "stream",
     "text": [
      "Writing schema.yaml\n"
     ]
    }
   ],
   "source": [
    "%%writefile schema.yaml\n",
    "file_type: csv\n",
    "file_name: simple_dataset\n",
    "outbound_delimiter: \"|\"\n",
    "columns:\n",
    "    - ID\n",
    "    - Name\n",
    "    - Age\n",
    "    - Address\n",
    "    - City\n",
    "    - State\n",
    "    - Country\n",
    "    - Postcode"
   ]
  },
  {
   "attachments": {},
   "cell_type": "markdown",
   "metadata": {},
   "source": [
    "### Creating Utility File"
   ]
  },
  {
   "cell_type": "code",
   "execution_count": 14,
   "metadata": {},
   "outputs": [
    {
     "name": "stdout",
     "output_type": "stream",
     "text": [
      "Writing utility.py\n"
     ]
    }
   ],
   "source": [
    "%%writefile utility.py\n",
    "import yaml\n",
    "import re\n",
    "\n",
    "def read_config_file(path):\n",
    "    with open(path,'r') as file:\n",
    "        try:\n",
    "            return yaml.safe_load(stream=file)\n",
    "        except Exception as e:\n",
    "            return e\n",
    "\n",
    "def preprocessing(list):\n",
    "    return [x.title() for x in list]\n",
    "\n",
    "def validate_schema(dataframe,config_columns):\n",
    "\n",
    "    dataframe = preprocessing(dataframe)\n",
    "    config_columns =  preprocessing(config_columns)\n",
    "\n",
    "    # Validate the number of columns\n",
    "    if len(dataframe) != len(config_columns):\n",
    "        print(\"Number of columns does not match schema.\\n\")\n",
    "\n",
    "        for i in range(len(dataframe)):\n",
    "            if config_columns.__contains__(dataframe[i]) == False:\n",
    "                print(f\"The dataframe has a column name \\'{dataframe[i]}\\' which does not match columns name in schema.\\n\")\n",
    "\n",
    "    if len(dataframe) == len(config_columns):\n",
    "        if all(col in config_columns for col in dataframe):\n",
    "            if all(col in dataframe for col in config_columns):\n",
    "                print('The validation process for the column schema defined in the YAML file was successful.')\n",
    "\n",
    "    for i in range(len(config_columns)):\n",
    "        if dataframe.__contains__(config_columns[i]) == False:\n",
    "            print(f\"The schema entry for \\'{config_columns[i]}\\' does not match any of the column name in dataframe.\")\n",
    "  "
   ]
  },
  {
   "attachments": {},
   "cell_type": "markdown",
   "metadata": {},
   "source": [
    "### Validation"
   ]
  },
  {
   "cell_type": "code",
   "execution_count": 15,
   "metadata": {},
   "outputs": [
    {
     "data": {
      "text/plain": [
       "{'file_type': 'csv',\n",
       " 'file_name': 'simple_dataset',\n",
       " 'outbound_delimiter': '|',\n",
       " 'columns': ['ID',\n",
       "  'Name',\n",
       "  'Age',\n",
       "  'Address',\n",
       "  'City',\n",
       "  'State',\n",
       "  'Country',\n",
       "  'Postcode']}"
      ]
     },
     "execution_count": 15,
     "metadata": {},
     "output_type": "execute_result"
    }
   ],
   "source": [
    "import utility as util\n",
    "config_data = util.read_config_file('schema.yaml')\n",
    "config_data"
   ]
  },
  {
   "cell_type": "code",
   "execution_count": 16,
   "metadata": {},
   "outputs": [
    {
     "name": "stdout",
     "output_type": "stream",
     "text": [
      "The validation process for the column schema defined in the YAML file was successful.\n"
     ]
    }
   ],
   "source": [
    "util.validate_schema(df_dask.columns.tolist(),config_data.get('columns'))"
   ]
  },
  {
   "attachments": {},
   "cell_type": "markdown",
   "metadata": {},
   "source": [
    "### Data Ingestion summary"
   ]
  },
  {
   "cell_type": "code",
   "execution_count": 17,
   "metadata": {},
   "outputs": [
    {
     "name": "stdout",
     "output_type": "stream",
     "text": [
      "Data Ingestion Summary\n",
      "Total number of rows: 35000000\n",
      "Total number of columns: 8\n",
      "File size: 2.72 GB\n",
      "File type: .csv\n"
     ]
    }
   ],
   "source": [
    "print(\"Data Ingestion Summary\")\n",
    "print(f\"Total number of rows: {df_dd.shape[0]}\")\n",
    "print(f\"Total number of columns: {df_dd.shape[1]}\")\n",
    "print(f\"File size: {file_size_gb:.2f} GB\")\n",
    "print(f\"File type: {os.path.splitext(file_path)[1]}\")"
   ]
  },
  {
   "attachments": {},
   "cell_type": "markdown",
   "metadata": {},
   "source": [
    "### Saving the dataframe in pipe separated text file (|) in gz format"
   ]
  },
  {
   "cell_type": "code",
   "execution_count": 18,
   "metadata": {},
   "outputs": [
    {
     "data": {
      "text/plain": [
       "['c:\\\\Users\\\\yashj\\\\Desktop\\\\DG Internship\\\\File Ingestion Week6\\\\dataset.gz\\\\00.part',\n",
       " 'c:\\\\Users\\\\yashj\\\\Desktop\\\\DG Internship\\\\File Ingestion Week6\\\\dataset.gz\\\\01.part',\n",
       " 'c:\\\\Users\\\\yashj\\\\Desktop\\\\DG Internship\\\\File Ingestion Week6\\\\dataset.gz\\\\02.part',\n",
       " 'c:\\\\Users\\\\yashj\\\\Desktop\\\\DG Internship\\\\File Ingestion Week6\\\\dataset.gz\\\\03.part',\n",
       " 'c:\\\\Users\\\\yashj\\\\Desktop\\\\DG Internship\\\\File Ingestion Week6\\\\dataset.gz\\\\04.part',\n",
       " 'c:\\\\Users\\\\yashj\\\\Desktop\\\\DG Internship\\\\File Ingestion Week6\\\\dataset.gz\\\\05.part',\n",
       " 'c:\\\\Users\\\\yashj\\\\Desktop\\\\DG Internship\\\\File Ingestion Week6\\\\dataset.gz\\\\06.part',\n",
       " 'c:\\\\Users\\\\yashj\\\\Desktop\\\\DG Internship\\\\File Ingestion Week6\\\\dataset.gz\\\\07.part',\n",
       " 'c:\\\\Users\\\\yashj\\\\Desktop\\\\DG Internship\\\\File Ingestion Week6\\\\dataset.gz\\\\08.part',\n",
       " 'c:\\\\Users\\\\yashj\\\\Desktop\\\\DG Internship\\\\File Ingestion Week6\\\\dataset.gz\\\\09.part',\n",
       " 'c:\\\\Users\\\\yashj\\\\Desktop\\\\DG Internship\\\\File Ingestion Week6\\\\dataset.gz\\\\10.part',\n",
       " 'c:\\\\Users\\\\yashj\\\\Desktop\\\\DG Internship\\\\File Ingestion Week6\\\\dataset.gz\\\\11.part',\n",
       " 'c:\\\\Users\\\\yashj\\\\Desktop\\\\DG Internship\\\\File Ingestion Week6\\\\dataset.gz\\\\12.part',\n",
       " 'c:\\\\Users\\\\yashj\\\\Desktop\\\\DG Internship\\\\File Ingestion Week6\\\\dataset.gz\\\\13.part',\n",
       " 'c:\\\\Users\\\\yashj\\\\Desktop\\\\DG Internship\\\\File Ingestion Week6\\\\dataset.gz\\\\14.part',\n",
       " 'c:\\\\Users\\\\yashj\\\\Desktop\\\\DG Internship\\\\File Ingestion Week6\\\\dataset.gz\\\\15.part',\n",
       " 'c:\\\\Users\\\\yashj\\\\Desktop\\\\DG Internship\\\\File Ingestion Week6\\\\dataset.gz\\\\16.part',\n",
       " 'c:\\\\Users\\\\yashj\\\\Desktop\\\\DG Internship\\\\File Ingestion Week6\\\\dataset.gz\\\\17.part',\n",
       " 'c:\\\\Users\\\\yashj\\\\Desktop\\\\DG Internship\\\\File Ingestion Week6\\\\dataset.gz\\\\18.part',\n",
       " 'c:\\\\Users\\\\yashj\\\\Desktop\\\\DG Internship\\\\File Ingestion Week6\\\\dataset.gz\\\\19.part',\n",
       " 'c:\\\\Users\\\\yashj\\\\Desktop\\\\DG Internship\\\\File Ingestion Week6\\\\dataset.gz\\\\20.part',\n",
       " 'c:\\\\Users\\\\yashj\\\\Desktop\\\\DG Internship\\\\File Ingestion Week6\\\\dataset.gz\\\\21.part',\n",
       " 'c:\\\\Users\\\\yashj\\\\Desktop\\\\DG Internship\\\\File Ingestion Week6\\\\dataset.gz\\\\22.part',\n",
       " 'c:\\\\Users\\\\yashj\\\\Desktop\\\\DG Internship\\\\File Ingestion Week6\\\\dataset.gz\\\\23.part',\n",
       " 'c:\\\\Users\\\\yashj\\\\Desktop\\\\DG Internship\\\\File Ingestion Week6\\\\dataset.gz\\\\24.part',\n",
       " 'c:\\\\Users\\\\yashj\\\\Desktop\\\\DG Internship\\\\File Ingestion Week6\\\\dataset.gz\\\\25.part',\n",
       " 'c:\\\\Users\\\\yashj\\\\Desktop\\\\DG Internship\\\\File Ingestion Week6\\\\dataset.gz\\\\26.part',\n",
       " 'c:\\\\Users\\\\yashj\\\\Desktop\\\\DG Internship\\\\File Ingestion Week6\\\\dataset.gz\\\\27.part',\n",
       " 'c:\\\\Users\\\\yashj\\\\Desktop\\\\DG Internship\\\\File Ingestion Week6\\\\dataset.gz\\\\28.part',\n",
       " 'c:\\\\Users\\\\yashj\\\\Desktop\\\\DG Internship\\\\File Ingestion Week6\\\\dataset.gz\\\\29.part',\n",
       " 'c:\\\\Users\\\\yashj\\\\Desktop\\\\DG Internship\\\\File Ingestion Week6\\\\dataset.gz\\\\30.part',\n",
       " 'c:\\\\Users\\\\yashj\\\\Desktop\\\\DG Internship\\\\File Ingestion Week6\\\\dataset.gz\\\\31.part',\n",
       " 'c:\\\\Users\\\\yashj\\\\Desktop\\\\DG Internship\\\\File Ingestion Week6\\\\dataset.gz\\\\32.part',\n",
       " 'c:\\\\Users\\\\yashj\\\\Desktop\\\\DG Internship\\\\File Ingestion Week6\\\\dataset.gz\\\\33.part',\n",
       " 'c:\\\\Users\\\\yashj\\\\Desktop\\\\DG Internship\\\\File Ingestion Week6\\\\dataset.gz\\\\34.part',\n",
       " 'c:\\\\Users\\\\yashj\\\\Desktop\\\\DG Internship\\\\File Ingestion Week6\\\\dataset.gz\\\\35.part',\n",
       " 'c:\\\\Users\\\\yashj\\\\Desktop\\\\DG Internship\\\\File Ingestion Week6\\\\dataset.gz\\\\36.part',\n",
       " 'c:\\\\Users\\\\yashj\\\\Desktop\\\\DG Internship\\\\File Ingestion Week6\\\\dataset.gz\\\\37.part',\n",
       " 'c:\\\\Users\\\\yashj\\\\Desktop\\\\DG Internship\\\\File Ingestion Week6\\\\dataset.gz\\\\38.part',\n",
       " 'c:\\\\Users\\\\yashj\\\\Desktop\\\\DG Internship\\\\File Ingestion Week6\\\\dataset.gz\\\\39.part',\n",
       " 'c:\\\\Users\\\\yashj\\\\Desktop\\\\DG Internship\\\\File Ingestion Week6\\\\dataset.gz\\\\40.part',\n",
       " 'c:\\\\Users\\\\yashj\\\\Desktop\\\\DG Internship\\\\File Ingestion Week6\\\\dataset.gz\\\\41.part']"
      ]
     },
     "execution_count": 18,
     "metadata": {},
     "output_type": "execute_result"
    }
   ],
   "source": [
    "df_dask.to_csv('dataset.gz',sep='|',header=True,index=False,compression='gzip')"
   ]
  },
  {
   "cell_type": "code",
   "execution_count": 19,
   "metadata": {},
   "outputs": [
    {
     "name": "stdout",
     "output_type": "stream",
     "text": [
      "The total number of files 42\n",
      "Total folder size: 16.00 KB\n"
     ]
    }
   ],
   "source": [
    "print(\"The total number of files\",len(os.listdir('dataset.gz')))\n",
    "print(f\"Total folder size: {os.path.getsize('dataset.gz')/1024:.2f} KB\")"
   ]
  },
  {
   "attachments": {},
   "cell_type": "markdown",
   "metadata": {},
   "source": [
    "### More schema Validations after saving file in .gz format"
   ]
  },
  {
   "cell_type": "code",
   "execution_count": 20,
   "metadata": {},
   "outputs": [],
   "source": [
    "df_dask_copy = df_dask.copy()\n"
   ]
  },
  {
   "cell_type": "code",
   "execution_count": 21,
   "metadata": {},
   "outputs": [
    {
     "name": "stdout",
     "output_type": "stream",
     "text": [
      "The validation process for the column schema defined in the YAML file was successful.\n"
     ]
    }
   ],
   "source": [
    "util.validate_schema(df_dask_copy.columns.tolist(),config_data.get('columns'))"
   ]
  },
  {
   "cell_type": "code",
   "execution_count": 22,
   "metadata": {},
   "outputs": [
    {
     "data": {
      "text/plain": [
       "['ID', 'Age', 'Address', 'City', 'State', 'Country', 'Postcode']"
      ]
     },
     "execution_count": 22,
     "metadata": {},
     "output_type": "execute_result"
    }
   ],
   "source": [
    "df_dask_copy = df_dask_copy.drop('Name',axis=1)\n",
    "df_dask_copy.columns.tolist()"
   ]
  },
  {
   "cell_type": "code",
   "execution_count": 23,
   "metadata": {},
   "outputs": [
    {
     "name": "stdout",
     "output_type": "stream",
     "text": [
      "Number of columns does not match schema.\n",
      "\n",
      "The schema entry for 'Name' does not match any of the column name in dataframe.\n"
     ]
    }
   ],
   "source": [
    "util.validate_schema(df_dask_copy.columns.tolist(),config_data.get('columns'))"
   ]
  },
  {
   "cell_type": "code",
   "execution_count": 24,
   "metadata": {},
   "outputs": [],
   "source": [
    "df_dask_copy = df_dask.copy()\n",
    "df_dask_copy = df_dask_copy.rename(columns={'City':'_City'})\n"
   ]
  },
  {
   "cell_type": "code",
   "execution_count": 25,
   "metadata": {},
   "outputs": [
    {
     "name": "stdout",
     "output_type": "stream",
     "text": [
      "The schema entry for 'City' does not match any of the column name in dataframe.\n"
     ]
    }
   ],
   "source": [
    "util.validate_schema(df_dask_copy.columns.tolist(),config_data.get('columns'))"
   ]
  },
  {
   "cell_type": "code",
   "execution_count": 26,
   "metadata": {},
   "outputs": [],
   "source": [
    "df_dask_copy = df_dask.copy()\n",
    "df_dask_copy = df_dask_copy.rename(columns={'City':'city'})"
   ]
  },
  {
   "cell_type": "code",
   "execution_count": 27,
   "metadata": {},
   "outputs": [
    {
     "name": "stdout",
     "output_type": "stream",
     "text": [
      "The validation process for the column schema defined in the YAML file was successful.\n"
     ]
    }
   ],
   "source": [
    "util.validate_schema(df_dask_copy.columns.tolist(),config_data.get('columns'))"
   ]
  }
 ],
 "metadata": {
  "kernelspec": {
   "display_name": "Python 3",
   "language": "python",
   "name": "python3"
  },
  "language_info": {
   "codemirror_mode": {
    "name": "ipython",
    "version": 3
   },
   "file_extension": ".py",
   "mimetype": "text/x-python",
   "name": "python",
   "nbconvert_exporter": "python",
   "pygments_lexer": "ipython3",
   "version": "3.10.5"
  },
  "orig_nbformat": 4
 },
 "nbformat": 4,
 "nbformat_minor": 2
}
